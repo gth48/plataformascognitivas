{
  "cells": [
    {
      "cell_type": "code",
      "execution_count": null,
      "metadata": {
        "id": "xWHLG4ujizXD"
      },
      "outputs": [],
      "source": [
        "import requests\n",
        "\n",
        "print(\"Site da API da NASA: https://api.nasa.gov/\")\n",
        "rover_cam = input(\"Insira a abreviação da câmera: \")\n",
        "rover = input(\"Insira o nome, em minúsculo, do rover: \")\n",
        "while True:\n",
        "  sol = input(\"Insira o número do sol: \")\n",
        "\n",
        "  if sol==\"a\":\n",
        "    break\n",
        "\n",
        "  url = \"https://api.nasa.gov/mars-photos/api/v1/rovers/{}/photos\".format(rover)\n",
        "  parametros = {\n",
        "    'sol': sol,\n",
        "    'api_key': 'FjZUu3orbJ7cIogailz1gLfXEVrqHH5IW3JX1mfw',\n",
        "    'camera': rover_cam\n",
        "  }\n",
        "\n",
        "  resposta = requests.get(url, params=parametros)\n",
        "\n",
        "  cont = 0\n",
        "\n",
        "  if resposta.status_code == 200:\n",
        "    resposta_json = resposta.json()\n",
        "    for foto in resposta_json['photos']:\n",
        "      cont+=1\n",
        "    if cont==0:\n",
        "      print(\"Nenhuma foto encontrada para o sol especificado.\")\n",
        "    else:\n",
        "      print(\"Os URLs das fotos são:\")\n",
        "      for foto in resposta_json['photos']:\n",
        "        print(foto['img_src'])\n",
        "  else:\n",
        "    print(f\"Erro na requisição: {resposta.status_code}\")\n",
        "  cont = 0"
      ]
    }
  ],
  "metadata": {
    "colab": {
      "provenance": []
    },
    "kernelspec": {
      "display_name": "Python 3",
      "name": "python3"
    },
    "language_info": {
      "name": "python"
    }
  },
  "nbformat": 4,
  "nbformat_minor": 0
}