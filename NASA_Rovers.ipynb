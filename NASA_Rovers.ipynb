{
  "cells": [
    {
      "cell_type": "code",
      "execution_count": null,
      "metadata": {
        "id": "jKyDe-T-14tu"
      },
      "outputs": [],
      "source": [
        "import requests"
      ]
    },
    {
      "cell_type": "code",
      "execution_count": null,
      "metadata": {
        "id": "90j4PDHM25Pf"
      },
      "outputs": [],
      "source": [
        "sol = input(\"Digite o número do sol: \")\n",
        "\n",
        "resposta = requests.get(\"https://api.nasa.gov/mars-photos/api/v1/rovers/curiosity/photos?sol={}&api_key=FjZUu3orbJ7cIogailz1gLfXEVrqHH5IW3JX1mfw&camera=CHEMCAM\".format(sol))\n",
        "print(resposta)\n",
        "resposta.json()"
      ]
    },
    {
      "cell_type": "code",
      "execution_count": null,
      "metadata": {
        "id": "xWHLG4ujizXD"
      },
      "outputs": [],
      "source": [
        "print(\"Site da API da NASA: https://api.nasa.gov/\")\n",
        "rover_cam = input(\"Insira a abreviação da câmera: \")\n",
        "rover = input(\"Insira o nome, em minúsculo, do rover: \")\n",
        "while True:\n",
        "  sol = input(\"Insira o número do sol: \")\n",
        "\n",
        "  if sol==\"a\":\n",
        "    break\n",
        "\n",
        "  url = \"https://api.nasa.gov/mars-photos/api/v1/rovers/{}/photos\".format(rover)\n",
        "  parametros = {\n",
        "    'sol': sol,\n",
        "    'api_key': 'FjZUu3orbJ7cIogailz1gLfXEVrqHH5IW3JX1mfw',\n",
        "    'camera': rover_cam\n",
        "  }\n",
        "\n",
        "  resposta = requests.get(url, params=parametros)\n",
        "\n",
        "  if resposta.status_code == 200:\n",
        "    resposta_json = resposta.json()\n",
        "    if 'photos' in resposta_json:\n",
        "      print(\"Os URLs das fotos são:\")\n",
        "      for foto in resposta_json['photos']:\n",
        "        print(foto['img_src'])\n",
        "    else:\n",
        "      print(\"Nenhuma foto encontrada para o sol especificado.\")\n",
        "  else:\n",
        "    print(f\"Erro na requisição: {resposta.status_code}\")"
      ]
    }
  ],
  "metadata": {
    "colab": {
      "provenance": []
    },
    "kernelspec": {
      "display_name": "Python 3",
      "name": "python3"
    },
    "language_info": {
      "name": "python"
    }
  },
  "nbformat": 4,
  "nbformat_minor": 0
}